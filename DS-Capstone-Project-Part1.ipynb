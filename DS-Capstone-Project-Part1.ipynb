{
 "cells": [
  {
   "cell_type": "markdown",
   "metadata": {
    "collapsed": true
   },
   "source": [
    "# Introduction"
   ]
  },
  {
   "cell_type": "markdown",
   "metadata": {},
   "source": [
    "#### As ISIS has been pushed back from the territories they earned, other groups (some associated with ISIS) have moved on to different different countries and different continents. One of the continents that has had an influx in terrorist activity over the years is Africa. New branches of ISIS, Al-Qaida and new islamic terrorist groups have been formed and have been increasing in attacks and numbers. They have learned from the examples set by the Islamic terrorist groups based in the Middle East, and are improving their techniques. Determining the effectiveness of certain groups and their areas can be used to aid in determining how much of a threat they will pose into the future, without more intervention."
   ]
  },
  {
   "cell_type": "markdown",
   "metadata": {},
   "source": [
    "# Questions"
   ]
  },
  {
   "cell_type": "markdown",
   "metadata": {},
   "source": [
    "### The questions that will be answered at the end of this report include:\n",
    "* Which countries have the highest percentage increase in terrorist incidents from 2010 - 2018 (most recent available data)?\n",
    "* Are terrorist groups in Africa becoming more aggressive compared to their Middle Eastern counterparts?\n",
    "* What is the likelihood that African terrorist groups will increase in terrorist incidents and deaths without more intervention?\n"
   ]
  },
  {
   "cell_type": "markdown",
   "metadata": {},
   "source": [
    "# Data"
   ]
  },
  {
   "cell_type": "markdown",
   "metadata": {},
   "source": [
    "#### The data used in this came from the GTD (Global Terrorism Database) from the University of Maryland: Study of Terrorism and Responses to Terrorism (START)\n",
    "#### Due to the large amount of Islamic terrorist groups within the areas, the data has been condensed to include only the more reputable and violent terrorist groups in these regions, which include: Taliban, ISGS, ISIS, AQIM,Al-Qaida.\n",
    "#### The below dataframe is to show the data that will be used in this report. In order to compare the countries in highest perecentage of increases in incidents, data from each country leveraged against the incidents over the years available to determine the percentage increase.\n",
    "#### Determining the effectiveness of certain groups and their areas can be used to determine how much of a threat they will pose into the future.\n",
    "#### Taking the countries listed below and combining them with the specific groups with the deaths to incidents to come up with the result of the groups and their counterparts' 'aggressivness'. For example, taking ISGS (Islamic state in the Greater Sahara) compared with the incidents with ISI/ISIL (Islamic state in iraq and Islamic state of Iraq and the Levant). ISI and ISIL are the same group, but their ISI became ISIL as they gained more territory, ISIS is also the same group for reference.\n",
    "#### Comparing all of the incidents and deaths by region, and groups that occupy their regions, to determine which regions (Sub-Saharan Africa, South Asia, Middle East, North Africa) are becoming more violent  "
   ]
  },
  {
   "cell_type": "code",
   "execution_count": 4,
   "metadata": {},
   "outputs": [],
   "source": [
    "import pandas as pd\n",
    "import numpy as np\n",
    "import matplotlib.pyplot as plt"
   ]
  },
  {
   "cell_type": "code",
   "execution_count": 5,
   "metadata": {},
   "outputs": [
    {
     "data": {
      "text/html": [
       "<div>\n",
       "<style scoped>\n",
       "    .dataframe tbody tr th:only-of-type {\n",
       "        vertical-align: middle;\n",
       "    }\n",
       "\n",
       "    .dataframe tbody tr th {\n",
       "        vertical-align: top;\n",
       "    }\n",
       "\n",
       "    .dataframe thead th {\n",
       "        text-align: right;\n",
       "    }\n",
       "</style>\n",
       "<table border=\"1\" class=\"dataframe\">\n",
       "  <thead>\n",
       "    <tr style=\"text-align: right;\">\n",
       "      <th></th>\n",
       "      <th>eventid</th>\n",
       "      <th>iyear</th>\n",
       "      <th>imonth</th>\n",
       "      <th>iday</th>\n",
       "      <th>country_txt</th>\n",
       "      <th>region</th>\n",
       "      <th>region_txt</th>\n",
       "      <th>city</th>\n",
       "      <th>latitude</th>\n",
       "      <th>longitude</th>\n",
       "      <th>attacktype1_txt</th>\n",
       "      <th>gname</th>\n",
       "      <th>nkill</th>\n",
       "    </tr>\n",
       "  </thead>\n",
       "  <tbody>\n",
       "    <tr>\n",
       "      <th>0</th>\n",
       "      <td>201001010002</td>\n",
       "      <td>2010</td>\n",
       "      <td>1</td>\n",
       "      <td>1</td>\n",
       "      <td>Afghanistan</td>\n",
       "      <td>6</td>\n",
       "      <td>South Asia</td>\n",
       "      <td>Dwah Mande</td>\n",
       "      <td>33.469444</td>\n",
       "      <td>69.620278</td>\n",
       "      <td>Bombing/Explosion</td>\n",
       "      <td>Taliban</td>\n",
       "      <td>4.0</td>\n",
       "    </tr>\n",
       "    <tr>\n",
       "      <th>1</th>\n",
       "      <td>201001100001</td>\n",
       "      <td>2010</td>\n",
       "      <td>1</td>\n",
       "      <td>10</td>\n",
       "      <td>Afghanistan</td>\n",
       "      <td>6</td>\n",
       "      <td>South Asia</td>\n",
       "      <td>Dawlatabad</td>\n",
       "      <td>36.420551</td>\n",
       "      <td>64.893890</td>\n",
       "      <td>Bombing/Explosion</td>\n",
       "      <td>Taliban</td>\n",
       "      <td>4.0</td>\n",
       "    </tr>\n",
       "    <tr>\n",
       "      <th>2</th>\n",
       "      <td>201001160003</td>\n",
       "      <td>2010</td>\n",
       "      <td>1</td>\n",
       "      <td>16</td>\n",
       "      <td>Afghanistan</td>\n",
       "      <td>6</td>\n",
       "      <td>South Asia</td>\n",
       "      <td>NaN</td>\n",
       "      <td>36.079561</td>\n",
       "      <td>64.905955</td>\n",
       "      <td>Hostage Taking (Kidnapping)</td>\n",
       "      <td>Taliban</td>\n",
       "      <td>0.0</td>\n",
       "    </tr>\n",
       "    <tr>\n",
       "      <th>3</th>\n",
       "      <td>201001170001</td>\n",
       "      <td>2010</td>\n",
       "      <td>1</td>\n",
       "      <td>17</td>\n",
       "      <td>Afghanistan</td>\n",
       "      <td>6</td>\n",
       "      <td>South Asia</td>\n",
       "      <td>NaN</td>\n",
       "      <td>34.176874</td>\n",
       "      <td>61.700565</td>\n",
       "      <td>Assassination</td>\n",
       "      <td>Taliban</td>\n",
       "      <td>6.0</td>\n",
       "    </tr>\n",
       "    <tr>\n",
       "      <th>4</th>\n",
       "      <td>201001180004</td>\n",
       "      <td>2010</td>\n",
       "      <td>1</td>\n",
       "      <td>18</td>\n",
       "      <td>Afghanistan</td>\n",
       "      <td>6</td>\n",
       "      <td>South Asia</td>\n",
       "      <td>Jalalabad</td>\n",
       "      <td>34.417122</td>\n",
       "      <td>70.449593</td>\n",
       "      <td>Bombing/Explosion</td>\n",
       "      <td>Taliban</td>\n",
       "      <td>0.0</td>\n",
       "    </tr>\n",
       "  </tbody>\n",
       "</table>\n",
       "</div>"
      ],
      "text/plain": [
       "        eventid  iyear  imonth  iday  country_txt  region  region_txt  \\\n",
       "0  201001010002   2010       1     1  Afghanistan       6  South Asia   \n",
       "1  201001100001   2010       1    10  Afghanistan       6  South Asia   \n",
       "2  201001160003   2010       1    16  Afghanistan       6  South Asia   \n",
       "3  201001170001   2010       1    17  Afghanistan       6  South Asia   \n",
       "4  201001180004   2010       1    18  Afghanistan       6  South Asia   \n",
       "\n",
       "         city   latitude  longitude              attacktype1_txt    gname  \\\n",
       "0  Dwah Mande  33.469444  69.620278            Bombing/Explosion  Taliban   \n",
       "1  Dawlatabad  36.420551  64.893890            Bombing/Explosion  Taliban   \n",
       "2         NaN  36.079561  64.905955  Hostage Taking (Kidnapping)  Taliban   \n",
       "3         NaN  34.176874  61.700565                Assassination  Taliban   \n",
       "4   Jalalabad  34.417122  70.449593            Bombing/Explosion  Taliban   \n",
       "\n",
       "   nkill  \n",
       "0    4.0  \n",
       "1    4.0  \n",
       "2    0.0  \n",
       "3    6.0  \n",
       "4    0.0  "
      ]
     },
     "execution_count": 5,
     "metadata": {},
     "output_type": "execute_result"
    }
   ],
   "source": [
    "\n",
    "import types\n",
    "import pandas as pd\n",
    "from botocore.client import Config \n",
    "import ibm_boto3\n",
    "\n",
    "def __iter__(self): return 0\n",
    "\n",
    "# @hidden_cell\n",
    "# The following code accesses a file in your IBM Cloud Object Storage. It includes your credentials.\n",
    "# You might want to remove those credentials before you share the notebook.\n",
    "client_72664cce2b4d4fb3b27854367823008f = ibm_boto3.client(service_name='s3',\n",
    "    ibm_api_key_id='beo4TntZ11cb4BzIq2GELDgYxx_xof62j_8R2_cc-l9p',\n",
    "    ibm_auth_endpoint=\"https://iam.ng.bluemix.net/oidc/token\",\n",
    "    config=Config(signature_version='oauth'),\n",
    "    endpoint_url='https://s3-api.us-geo.objectstorage.service.networklayer.com')\n",
    "\n",
    "body = client_72664cce2b4d4fb3b27854367823008f.get_object(Bucket='capstonedsproject-donotdelete-pr-fmytwfnljpwzts',Key='capstone_ds_coursera.csv')['Body']\n",
    "# add missing __iter__ method, so pandas accepts body as file-like object\n",
    "if not hasattr(body, \"__iter__\"): body.__iter__ = types.MethodType( __iter__, body )\n",
    "\n",
    "df_data_1 = pd.read_csv(body)\n",
    "df_data_1.head()\n"
   ]
  },
  {
   "cell_type": "code",
   "execution_count": null,
   "metadata": {},
   "outputs": [],
   "source": []
  }
 ],
 "metadata": {
  "kernelspec": {
   "display_name": "Python 3.6",
   "language": "python",
   "name": "python3"
  },
  "language_info": {
   "codemirror_mode": {
    "name": "ipython",
    "version": 3
   },
   "file_extension": ".py",
   "mimetype": "text/x-python",
   "name": "python",
   "nbconvert_exporter": "python",
   "pygments_lexer": "ipython3",
   "version": "3.6.9"
  }
 },
 "nbformat": 4,
 "nbformat_minor": 1
}
