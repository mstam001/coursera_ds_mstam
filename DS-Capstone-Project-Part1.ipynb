{
 "cells": [
  {
   "cell_type": "markdown",
   "metadata": {
    "collapsed": true
   },
   "source": [
    "# Introduction"
   ]
  },
  {
   "cell_type": "markdown",
   "metadata": {},
   "source": [
    "#### As ISIS has been pushed back from the territories they've overrun, other groups (some associated with ISIS) have moved on to different countries and continents. One of the continents that has had an influx in terrorist activity over the years is Africa. New branches of ISIS, Al-Qaida and new islamic terrorist groups have been formed and have been increasing in attacks and numbers. They have learned from the examples set by the Islamic terrorist groups based in the Middle East, and are improving their techniques"
   ]
  },
  {
   "cell_type": "markdown",
   "metadata": {},
   "source": [
    "# Questions"
   ]
  },
  {
   "cell_type": "markdown",
   "metadata": {},
   "source": [
    "### The questions that will be answered at the end of this report include:\n",
    "* Which countries have the highest percentage increase in terrorist incidents over the past 5 years?\n",
    "* Are terrorist groups in Africa becoming more aggressive compared to their Middle Eastern counterparts?\n",
    "* What is the likelihood that African terrorist groups will increase in terrorist incidents and deaths without more intervention?\n"
   ]
  },
  {
   "cell_type": "markdown",
   "metadata": {},
   "source": [
    "# Data"
   ]
  },
  {
   "cell_type": "markdown",
   "metadata": {},
   "source": [
    "#### The data used in this came from the GTD (Global Terrorism Database) from the University of Maryland: Study of Terrorism and Responses to Terrorism (START)"
   ]
  },
  {
   "cell_type": "code",
   "execution_count": null,
   "metadata": {},
   "outputs": [],
   "source": []
  }
 ],
 "metadata": {
  "kernelspec": {
   "display_name": "Python 3.6",
   "language": "python",
   "name": "python3"
  },
  "language_info": {
   "codemirror_mode": {
    "name": "ipython",
    "version": 3
   },
   "file_extension": ".py",
   "mimetype": "text/x-python",
   "name": "python",
   "nbconvert_exporter": "python",
   "pygments_lexer": "ipython3",
   "version": "3.6.9"
  }
 },
 "nbformat": 4,
 "nbformat_minor": 1
}
